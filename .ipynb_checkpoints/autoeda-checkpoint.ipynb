{
 "cells": [
  {
   "cell_type": "code",
   "execution_count": 1,
   "id": "722c9689-adbe-4b16-b9ac-3df3d87a5d0b",
   "metadata": {},
   "outputs": [],
   "source": [
    "import pandas as pd\n",
    "import dtale"
   ]
  },
  {
   "cell_type": "code",
   "execution_count": 2,
   "id": "7e35e76d-91bf-4ba8-a7db-df0b4a2fa38a",
   "metadata": {},
   "outputs": [],
   "source": [
    "df = pd.read_csv(\"processed_data/full_train_data.csv\")"
   ]
  },
  {
   "cell_type": "code",
   "execution_count": 3,
   "id": "200cc554-468c-4733-990b-dc3ac0a0e5df",
   "metadata": {},
   "outputs": [
    {
     "name": "stdout",
     "output_type": "stream",
     "text": [
      "<class 'pandas.core.frame.DataFrame'>\n",
      "RangeIndex: 970960 entries, 0 to 970959\n",
      "Data columns (total 27 columns):\n",
      " #   Column                        Non-Null Count   Dtype  \n",
      "---  ------                        --------------   -----  \n",
      " 0   msno                          970960 non-null  object \n",
      " 1   is_churn                      970960 non-null  int64  \n",
      " 2   city                          860967 non-null  float64\n",
      " 3   bd                            860967 non-null  float64\n",
      " 4   gender                        388905 non-null  object \n",
      " 5   registered_via                860967 non-null  float64\n",
      " 6   registration_init_time        860967 non-null  float64\n",
      " 7   mean_date                     754532 non-null  float64\n",
      " 8   count_of_logs                 754532 non-null  float64\n",
      " 9   mean_num_25                   754532 non-null  float64\n",
      " 10  mean_num_50                   754532 non-null  float64\n",
      " 11  mean_num_75                   754532 non-null  float64\n",
      " 12  mean_num_985                  754532 non-null  float64\n",
      " 13  mean_num_100                  754532 non-null  float64\n",
      " 14  mean_num_unq                  754532 non-null  float64\n",
      " 15  mean_total_secs               754532 non-null  float64\n",
      " 16  number_transactions_done      825368 non-null  float64\n",
      " 17  mean_payment_plan_days        825368 non-null  float64\n",
      " 18  total_payment_plan_days       825368 non-null  float64\n",
      " 19  mean_plan_list_price          825368 non-null  float64\n",
      " 20  mean_actual_amount_paid       825368 non-null  float64\n",
      " 21  total_actual_amount_paid      825368 non-null  float64\n",
      " 22  mean_is_auto_renew            825368 non-null  float64\n",
      " 23  mean_transaction_date         825368 non-null  float64\n",
      " 24  mean_membership_expire_date   825368 non-null  float64\n",
      " 25  mean_is_cancel                825368 non-null  float64\n",
      " 26  total_transactions_cancelled  825368 non-null  float64\n",
      "dtypes: float64(24), int64(1), object(2)\n",
      "memory usage: 200.0+ MB\n"
     ]
    }
   ],
   "source": [
    "\n",
    "df.info()"
   ]
  },
  {
   "cell_type": "code",
   "execution_count": 10,
   "id": "345eabc4-e2a1-474d-9885-f2634c933293",
   "metadata": {},
   "outputs": [
    {
     "data": {
      "text/plain": [
       "mean_is_auto_renew             -0.322745\n",
       "mean_date                      -0.215020\n",
       "number_transactions_done       -0.209433\n",
       "mean_transaction_date          -0.146887\n",
       "registered_via                 -0.080642\n",
       "count_of_logs                  -0.065492\n",
       "mean_num_100                   -0.001253\n",
       "mean_total_secs                -0.000725\n",
       "registration_init_time         -0.000021\n",
       "mean_num_985                    0.005538\n",
       "mean_num_unq                    0.006057\n",
       "mean_num_25                     0.007841\n",
       "mean_num_75                     0.012429\n",
       "mean_num_50                     0.013284\n",
       "bd                              0.065719\n",
       "city                            0.081424\n",
       "mean_membership_expire_date     0.327534\n",
       "total_transactions_cancelled    0.371768\n",
       "total_actual_amount_paid        0.398211\n",
       "mean_is_cancel                  0.421851\n",
       "total_payment_plan_days         0.435335\n",
       "mean_actual_amount_paid         0.444332\n",
       "mean_plan_list_price            0.448666\n",
       "mean_payment_plan_days          0.464500\n",
       "is_churn                        1.000000\n",
       "Name: is_churn, dtype: float64"
      ]
     },
     "execution_count": 10,
     "metadata": {},
     "output_type": "execute_result"
    }
   ],
   "source": [
    "numeric_df = df.drop(columns=['msno', 'gender'])\n",
    "\n",
    "# Handle missing values by filling with zero (you can choose a different method)\n",
    "\n",
    "# Calculate the correlation matrix\n",
    "corr_matrix = numeric_df.corr()\n",
    "\n",
    "# Display the correlation matrix\n",
    "corr_matrix[\"is_churn\"].sort_values()"
   ]
  },
  {
   "cell_type": "markdown",
   "id": "b0c98c43-a3dc-4c1c-8b0d-b0e7d1120680",
   "metadata": {},
   "source": [
    "### Feature Engineering"
   ]
  },
  {
   "cell_type": "code",
   "execution_count": 11,
   "id": "062bc397-a2e1-4157-93e5-ad407fbd124e",
   "metadata": {},
   "outputs": [
    {
     "data": {
      "text/html": [
       "<div>\n",
       "<style scoped>\n",
       "    .dataframe tbody tr th:only-of-type {\n",
       "        vertical-align: middle;\n",
       "    }\n",
       "\n",
       "    .dataframe tbody tr th {\n",
       "        vertical-align: top;\n",
       "    }\n",
       "\n",
       "    .dataframe thead th {\n",
       "        text-align: right;\n",
       "    }\n",
       "</style>\n",
       "<table border=\"1\" class=\"dataframe\">\n",
       "  <thead>\n",
       "    <tr style=\"text-align: right;\">\n",
       "      <th></th>\n",
       "      <th>msno</th>\n",
       "      <th>is_churn</th>\n",
       "      <th>city</th>\n",
       "      <th>bd</th>\n",
       "      <th>gender</th>\n",
       "      <th>registered_via</th>\n",
       "      <th>registration_init_time</th>\n",
       "      <th>mean_date</th>\n",
       "      <th>count_of_logs</th>\n",
       "      <th>mean_num_25</th>\n",
       "      <th>...</th>\n",
       "      <th>mean_payment_plan_days</th>\n",
       "      <th>total_payment_plan_days</th>\n",
       "      <th>mean_plan_list_price</th>\n",
       "      <th>mean_actual_amount_paid</th>\n",
       "      <th>total_actual_amount_paid</th>\n",
       "      <th>mean_is_auto_renew</th>\n",
       "      <th>mean_transaction_date</th>\n",
       "      <th>mean_membership_expire_date</th>\n",
       "      <th>mean_is_cancel</th>\n",
       "      <th>total_transactions_cancelled</th>\n",
       "    </tr>\n",
       "  </thead>\n",
       "  <tbody>\n",
       "    <tr>\n",
       "      <th>0</th>\n",
       "      <td>EaEj45+VQtj3xDpynVuUE/A6o86l3BSSG2aTOUD27l4=</td>\n",
       "      <td>0</td>\n",
       "      <td>22.0</td>\n",
       "      <td>23.0</td>\n",
       "      <td>male</td>\n",
       "      <td>3.0</td>\n",
       "      <td>20120414.0</td>\n",
       "      <td>2.017032e+07</td>\n",
       "      <td>20.0</td>\n",
       "      <td>6.250000</td>\n",
       "      <td>...</td>\n",
       "      <td>30.0</td>\n",
       "      <td>30.0</td>\n",
       "      <td>149.0</td>\n",
       "      <td>149.0</td>\n",
       "      <td>149.0</td>\n",
       "      <td>0.0</td>\n",
       "      <td>20170322.0</td>\n",
       "      <td>20170421.0</td>\n",
       "      <td>0.0</td>\n",
       "      <td>0.0</td>\n",
       "    </tr>\n",
       "    <tr>\n",
       "      <th>1</th>\n",
       "      <td>amLXK2ui+Ps78QU88Y4qbY/4P7yNX9sx4EHQ2eczsGE=</td>\n",
       "      <td>0</td>\n",
       "      <td>13.0</td>\n",
       "      <td>53.0</td>\n",
       "      <td>male</td>\n",
       "      <td>9.0</td>\n",
       "      <td>20120415.0</td>\n",
       "      <td>2.017031e+07</td>\n",
       "      <td>17.0</td>\n",
       "      <td>3.294118</td>\n",
       "      <td>...</td>\n",
       "      <td>30.0</td>\n",
       "      <td>30.0</td>\n",
       "      <td>149.0</td>\n",
       "      <td>149.0</td>\n",
       "      <td>149.0</td>\n",
       "      <td>1.0</td>\n",
       "      <td>20170312.0</td>\n",
       "      <td>20170411.0</td>\n",
       "      <td>0.0</td>\n",
       "      <td>0.0</td>\n",
       "    </tr>\n",
       "  </tbody>\n",
       "</table>\n",
       "<p>2 rows × 27 columns</p>\n",
       "</div>"
      ],
      "text/plain": [
       "                                           msno  is_churn  city    bd gender  \\\n",
       "0  EaEj45+VQtj3xDpynVuUE/A6o86l3BSSG2aTOUD27l4=         0  22.0  23.0   male   \n",
       "1  amLXK2ui+Ps78QU88Y4qbY/4P7yNX9sx4EHQ2eczsGE=         0  13.0  53.0   male   \n",
       "\n",
       "   registered_via  registration_init_time     mean_date  count_of_logs  \\\n",
       "0             3.0              20120414.0  2.017032e+07           20.0   \n",
       "1             9.0              20120415.0  2.017031e+07           17.0   \n",
       "\n",
       "   mean_num_25  ...  mean_payment_plan_days  total_payment_plan_days  \\\n",
       "0     6.250000  ...                    30.0                     30.0   \n",
       "1     3.294118  ...                    30.0                     30.0   \n",
       "\n",
       "   mean_plan_list_price  mean_actual_amount_paid  total_actual_amount_paid  \\\n",
       "0                 149.0                    149.0                     149.0   \n",
       "1                 149.0                    149.0                     149.0   \n",
       "\n",
       "   mean_is_auto_renew  mean_transaction_date  mean_membership_expire_date  \\\n",
       "0                 0.0             20170322.0                   20170421.0   \n",
       "1                 1.0             20170312.0                   20170411.0   \n",
       "\n",
       "   mean_is_cancel  total_transactions_cancelled  \n",
       "0             0.0                           0.0  \n",
       "1             0.0                           0.0  \n",
       "\n",
       "[2 rows x 27 columns]"
      ]
     },
     "execution_count": 11,
     "metadata": {},
     "output_type": "execute_result"
    }
   ],
   "source": [
    "df.head(2)"
   ]
  },
  {
   "cell_type": "code",
   "execution_count": 14,
   "id": "9ef7e30e-3a47-4086-aa91-c5a0e729ea9f",
   "metadata": {},
   "outputs": [],
   "source": [
    "df[\"fe_payment_days_div_amount_paid\"] = df[\"mean_payment_plan_days\"] / df[\"mean_actual_amount_paid\"]\n",
    "df[\"fe_mean_autorenew_mul_mean_cancel\"] = df['mean_is_auto_renew'] * df[\"mean_is_cancel\"]\n",
    "df[\"fe_amount_div_n_trans\"] = df['mean_actual_amount_paid'] / df[\"number_transactions_done\"]\n"
   ]
  },
  {
   "cell_type": "code",
   "execution_count": null,
   "id": "7ec67897-8a8d-41d1-ab45-0305ff510cf1",
   "metadata": {},
   "outputs": [],
   "source": []
  }
 ],
 "metadata": {
  "kernelspec": {
   "display_name": "Python 3 (ipykernel)",
   "language": "python",
   "name": "python3"
  },
  "language_info": {
   "codemirror_mode": {
    "name": "ipython",
    "version": 3
   },
   "file_extension": ".py",
   "mimetype": "text/x-python",
   "name": "python",
   "nbconvert_exporter": "python",
   "pygments_lexer": "ipython3",
   "version": "3.10.12"
  }
 },
 "nbformat": 4,
 "nbformat_minor": 5
}
