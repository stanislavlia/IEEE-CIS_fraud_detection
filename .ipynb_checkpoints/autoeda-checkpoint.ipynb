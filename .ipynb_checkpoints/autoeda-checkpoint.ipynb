{
 "cells": [
  {
   "cell_type": "code",
   "execution_count": 1,
   "id": "722c9689-adbe-4b16-b9ac-3df3d87a5d0b",
   "metadata": {},
   "outputs": [],
   "source": [
    "import pandas as pd\n",
    "import dtale"
   ]
  },
  {
   "cell_type": "code",
   "execution_count": 2,
   "id": "7e35e76d-91bf-4ba8-a7db-df0b4a2fa38a",
   "metadata": {},
   "outputs": [],
   "source": [
    "df = pd.read_csv(\"processed_data/full_train_data.csv\")"
   ]
  },
  {
   "cell_type": "code",
   "execution_count": 3,
   "id": "200cc554-468c-4733-990b-dc3ac0a0e5df",
   "metadata": {},
   "outputs": [
    {
     "name": "stdout",
     "output_type": "stream",
     "text": [
      "<class 'pandas.core.frame.DataFrame'>\n",
      "RangeIndex: 970960 entries, 0 to 970959\n",
      "Data columns (total 27 columns):\n",
      " #   Column                        Non-Null Count   Dtype  \n",
      "---  ------                        --------------   -----  \n",
      " 0   msno                          970960 non-null  object \n",
      " 1   is_churn                      970960 non-null  int64  \n",
      " 2   city                          860967 non-null  float64\n",
      " 3   bd                            860967 non-null  float64\n",
      " 4   gender                        388905 non-null  object \n",
      " 5   registered_via                860967 non-null  float64\n",
      " 6   registration_init_time        860967 non-null  float64\n",
      " 7   mean_date                     754532 non-null  float64\n",
      " 8   count_of_logs                 754532 non-null  float64\n",
      " 9   mean_num_25                   754532 non-null  float64\n",
      " 10  mean_num_50                   754532 non-null  float64\n",
      " 11  mean_num_75                   754532 non-null  float64\n",
      " 12  mean_num_985                  754532 non-null  float64\n",
      " 13  mean_num_100                  754532 non-null  float64\n",
      " 14  mean_num_unq                  754532 non-null  float64\n",
      " 15  mean_total_secs               754532 non-null  float64\n",
      " 16  number_transactions_done      825368 non-null  float64\n",
      " 17  mean_payment_plan_days        825368 non-null  float64\n",
      " 18  total_payment_plan_days       825368 non-null  float64\n",
      " 19  mean_plan_list_price          825368 non-null  float64\n",
      " 20  mean_actual_amount_paid       825368 non-null  float64\n",
      " 21  total_actual_amount_paid      825368 non-null  float64\n",
      " 22  mean_is_auto_renew            825368 non-null  float64\n",
      " 23  mean_transaction_date         825368 non-null  float64\n",
      " 24  mean_membership_expire_date   825368 non-null  float64\n",
      " 25  mean_is_cancel                825368 non-null  float64\n",
      " 26  total_transactions_cancelled  825368 non-null  float64\n",
      "dtypes: float64(24), int64(1), object(2)\n",
      "memory usage: 200.0+ MB\n"
     ]
    }
   ],
   "source": [
    "\n",
    "df.info()"
   ]
  },
  {
   "cell_type": "code",
   "execution_count": 9,
   "id": "345eabc4-e2a1-474d-9885-f2634c933293",
   "metadata": {},
   "outputs": [
    {
     "data": {
      "text/plain": [
       "mean_is_auto_renew             -0.323551\n",
       "number_transactions_done       -0.241063\n",
       "mean_transaction_date          -0.206304\n",
       "mean_membership_expire_date    -0.206251\n",
       "count_of_logs                  -0.044714\n",
       "registered_via                 -0.014833\n",
       "mean_date                      -0.002024\n",
       "mean_num_100                   -0.001820\n",
       "mean_total_secs                -0.001446\n",
       "mean_num_unq                    0.003625\n",
       "mean_num_985                    0.004187\n",
       "mean_num_25                     0.005874\n",
       "mean_num_75                     0.009345\n",
       "mean_num_50                     0.010399\n",
       "registration_init_time          0.045557\n",
       "bd                              0.071844\n",
       "city                            0.088410\n",
       "total_actual_amount_paid        0.246113\n",
       "mean_actual_amount_paid         0.249961\n",
       "mean_plan_list_price            0.252806\n",
       "mean_payment_plan_days          0.267917\n",
       "total_payment_plan_days         0.274525\n",
       "total_transactions_cancelled    0.280000\n",
       "mean_is_cancel                  0.321211\n",
       "is_churn                        1.000000\n",
       "Name: is_churn, dtype: float64"
      ]
     },
     "execution_count": 9,
     "metadata": {},
     "output_type": "execute_result"
    }
   ],
   "source": [
    "numeric_df = df.drop(columns=['msno', 'gender'])\n",
    "\n",
    "# Handle missing values by filling with zero (you can choose a different method)\n",
    "numeric_df = numeric_df.fillna(0)\n",
    "\n",
    "# Calculate the correlation matrix\n",
    "corr_matrix = numeric_df.corr()\n",
    "\n",
    "# Display the correlation matrix\n",
    "corr_matrix[\"is_churn\"].sort_values()"
   ]
  },
  {
   "cell_type": "code",
   "execution_count": null,
   "id": "4161129b-eb4c-4417-ad01-3b65880bf842",
   "metadata": {},
   "outputs": [],
   "source": []
  }
 ],
 "metadata": {
  "kernelspec": {
   "display_name": "Python 3 (ipykernel)",
   "language": "python",
   "name": "python3"
  },
  "language_info": {
   "codemirror_mode": {
    "name": "ipython",
    "version": 3
   },
   "file_extension": ".py",
   "mimetype": "text/x-python",
   "name": "python",
   "nbconvert_exporter": "python",
   "pygments_lexer": "ipython3",
   "version": "3.10.12"
  }
 },
 "nbformat": 4,
 "nbformat_minor": 5
}
