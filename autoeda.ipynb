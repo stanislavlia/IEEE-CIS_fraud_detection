{
 "cells": [
  {
   "cell_type": "code",
   "execution_count": 2,
   "id": "722c9689-adbe-4b16-b9ac-3df3d87a5d0b",
   "metadata": {},
   "outputs": [],
   "source": [
    "import pandas as pd\n",
    "import dtale"
   ]
  },
  {
   "cell_type": "code",
   "execution_count": 3,
   "id": "a1dc8ef6-3f6e-4927-bf62-8a041716940e",
   "metadata": {},
   "outputs": [],
   "source": [
    "members_df = pd.read_csv(\"data/members_v3.csv\")\n",
    "members_df_sample = members_df.sample(frac=0.1)"
   ]
  },
  {
   "cell_type": "code",
   "execution_count": 8,
   "id": "00c3ac91-c86d-45c9-a491-6386fdfbc55d",
   "metadata": {},
   "outputs": [
    {
     "name": "stdout",
     "output_type": "stream",
     "text": [
      "<class 'pandas.core.frame.DataFrame'>\n",
      "RangeIndex: 6769473 entries, 0 to 6769472\n",
      "Data columns (total 6 columns):\n",
      " #   Column                  Non-Null Count    Dtype \n",
      "---  ------                  --------------    ----- \n",
      " 0   msno                    6769473 non-null  object\n",
      " 1   city                    6769473 non-null  int64 \n",
      " 2   bd                      6769473 non-null  int64 \n",
      " 3   gender                  2339968 non-null  object\n",
      " 4   registered_via          6769473 non-null  int64 \n",
      " 5   registration_init_time  6769473 non-null  int64 \n",
      "dtypes: int64(4), object(2)\n",
      "memory usage: 309.9+ MB\n"
     ]
    },
    {
     "name": "stderr",
     "output_type": "stream",
     "text": [
      "/home/stanislav/.local/lib/python3.10/site-packages/dtale/column_analysis.py:403: FutureWarning:\n",
      "\n",
      "pandas.value_counts is deprecated and will be removed in a future version. Use pd.Series(obj).value_counts() instead.\n",
      "\n",
      "/home/stanislav/.local/lib/python3.10/site-packages/dtale/column_analysis.py:403: FutureWarning:\n",
      "\n",
      "pandas.value_counts is deprecated and will be removed in a future version. Use pd.Series(obj).value_counts() instead.\n",
      "\n",
      "/home/stanislav/.local/lib/python3.10/site-packages/dtale/column_analysis.py:403: FutureWarning:\n",
      "\n",
      "pandas.value_counts is deprecated and will be removed in a future version. Use pd.Series(obj).value_counts() instead.\n",
      "\n",
      "/home/stanislav/.local/lib/python3.10/site-packages/dtale/column_analysis.py:403: FutureWarning:\n",
      "\n",
      "pandas.value_counts is deprecated and will be removed in a future version. Use pd.Series(obj).value_counts() instead.\n",
      "\n",
      "/home/stanislav/.local/lib/python3.10/site-packages/dtale/column_analysis.py:403: FutureWarning:\n",
      "\n",
      "pandas.value_counts is deprecated and will be removed in a future version. Use pd.Series(obj).value_counts() instead.\n",
      "\n"
     ]
    }
   ],
   "source": [
    "members_df.info(show_counts=True)"
   ]
  },
  {
   "cell_type": "code",
   "execution_count": 7,
   "id": "338fa9a4-6027-4ac5-a0a8-eca2d2dc0a5a",
   "metadata": {},
   "outputs": [
    {
     "name": "stderr",
     "output_type": "stream",
     "text": [
      "/home/stanislav/.local/lib/python3.10/site-packages/dtale/column_analysis.py:403: FutureWarning:\n",
      "\n",
      "pandas.value_counts is deprecated and will be removed in a future version. Use pd.Series(obj).value_counts() instead.\n",
      "\n",
      "/home/stanislav/.local/lib/python3.10/site-packages/dtale/column_analysis.py:403: FutureWarning:\n",
      "\n",
      "pandas.value_counts is deprecated and will be removed in a future version. Use pd.Series(obj).value_counts() instead.\n",
      "\n",
      "/home/stanislav/.local/lib/python3.10/site-packages/dtale/column_analysis.py:512: FutureWarning:\n",
      "\n",
      "pandas.value_counts is deprecated and will be removed in a future version. Use pd.Series(obj).value_counts() instead.\n",
      "\n",
      "/home/stanislav/.local/lib/python3.10/site-packages/dtale/column_analysis.py:403: FutureWarning:\n",
      "\n",
      "pandas.value_counts is deprecated and will be removed in a future version. Use pd.Series(obj).value_counts() instead.\n",
      "\n"
     ]
    }
   ],
   "source": [
    "d = dtale.show(members_df_sample)\n",
    "d.open_browser()"
   ]
  },
  {
   "cell_type": "code",
   "execution_count": null,
   "id": "7e35e76d-91bf-4ba8-a7db-df0b4a2fa38a",
   "metadata": {},
   "outputs": [],
   "source": []
  }
 ],
 "metadata": {
  "kernelspec": {
   "display_name": "Python 3 (ipykernel)",
   "language": "python",
   "name": "python3"
  },
  "language_info": {
   "codemirror_mode": {
    "name": "ipython",
    "version": 3
   },
   "file_extension": ".py",
   "mimetype": "text/x-python",
   "name": "python",
   "nbconvert_exporter": "python",
   "pygments_lexer": "ipython3",
   "version": "3.10.12"
  }
 },
 "nbformat": 4,
 "nbformat_minor": 5
}
