{
 "cells": [
  {
   "cell_type": "code",
   "execution_count": 15,
   "id": "93f1831a-3825-4026-ab15-ef402bb99143",
   "metadata": {},
   "outputs": [],
   "source": [
    "import os\n",
    "\n",
    "os.environ[\"AWS_ACCESS_KEY_ID\"] = \"your_username\"\n",
    "os.environ[\"AWS_SECRET_ACCESS_KEY\"] = \"your_password\"\n",
    "os.environ[\"MLFLOW_S3_ENDPOINT_URL\"] = \"http://localhost:9000\""
   ]
  },
  {
   "cell_type": "code",
   "execution_count": 17,
   "id": "92d47934-7e19-4d36-bb5b-2ae7d8ebc32f",
   "metadata": {},
   "outputs": [
    {
     "name": "stderr",
     "output_type": "stream",
     "text": [
      "2024/08/05 16:51:55 WARNING mlflow.utils.requirements_utils: Found lz4 version (3.1.3+dfsg) contains a local version label (+dfsg). MLflow logged a pip requirement for this package as 'lz4==3.1.3' without the local version label to make it installable from PyPI. To specify pip requirements containing local version labels, please use `conda_env` or `pip_requirements`.\n"
     ]
    },
    {
     "name": "stdout",
     "output_type": "stream",
     "text": [
      "Logged an experiment with mean squared error: 1.9721522630525295e-31\n",
      "Run completed!\n"
     ]
    }
   ],
   "source": [
    "import mlflow\n",
    "import mlflow.sklearn\n",
    "from sklearn.linear_model import LinearRegression\n",
    "import numpy as np\n",
    "\n",
    "# Set the tracking URI to your MLflow server\n",
    "mlflow.set_tracking_uri(\"http://localhost:5000\")\n",
    "\n",
    "# Define the experiment name\n",
    "experiment_name = \"Simple MLflow Test\"\n",
    "mlflow.set_experiment(experiment_name)\n",
    "\n",
    "# Generate some random data\n",
    "X = np.array([[1, 1], [1, 2], [2, 2], [2, 3]])\n",
    "y = np.dot(X, np.array([1, 2])) + 3\n",
    "\n",
    "# Create a model and train it\n",
    "model = LinearRegression()\n",
    "model.fit(X, y)\n",
    "\n",
    "# Start a new MLflow run\n",
    "with mlflow.start_run():\n",
    "    # Log a parameter (alpha value)\n",
    "    mlflow.log_param(\"alpha\", 0.5)\n",
    "\n",
    "    # Log the model\n",
    "    mlflow.sklearn.log_model(model, \"model\")\n",
    "\n",
    "    # Log a metric (mean squared error)\n",
    "    predictions = model.predict(X)\n",
    "    mse = np.mean((predictions - y) ** 2)\n",
    "    mlflow.log_metric(\"mse\", mse)\n",
    "\n",
    "    print(f\"Logged an experiment with mean squared error: {mse}\")\n",
    "\n",
    "print(\"Run completed!\")\n"
   ]
  },
  {
   "cell_type": "code",
   "execution_count": null,
   "id": "ff0a59f5-8dcc-4861-a9b0-3468190e04b0",
   "metadata": {},
   "outputs": [],
   "source": []
  }
 ],
 "metadata": {
  "kernelspec": {
   "display_name": "Python 3 (ipykernel)",
   "language": "python",
   "name": "python3"
  },
  "language_info": {
   "codemirror_mode": {
    "name": "ipython",
    "version": 3
   },
   "file_extension": ".py",
   "mimetype": "text/x-python",
   "name": "python",
   "nbconvert_exporter": "python",
   "pygments_lexer": "ipython3",
   "version": "3.10.12"
  }
 },
 "nbformat": 4,
 "nbformat_minor": 5
}
