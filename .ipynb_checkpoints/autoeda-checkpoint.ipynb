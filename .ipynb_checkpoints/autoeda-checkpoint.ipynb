{
 "cells": [
  {
   "cell_type": "code",
   "execution_count": 1,
   "id": "722c9689-adbe-4b16-b9ac-3df3d87a5d0b",
   "metadata": {},
   "outputs": [],
   "source": [
    "import pandas as pd\n",
    "import dtale"
   ]
  },
  {
   "cell_type": "code",
   "execution_count": 2,
   "id": "7e35e76d-91bf-4ba8-a7db-df0b4a2fa38a",
   "metadata": {},
   "outputs": [],
   "source": [
    "df = pd.read_csv(\"processed_data/full_train_data.csv\")"
   ]
  },
  {
   "cell_type": "code",
   "execution_count": 4,
   "id": "200cc554-468c-4733-990b-dc3ac0a0e5df",
   "metadata": {},
   "outputs": [
    {
     "name": "stdout",
     "output_type": "stream",
     "text": [
      "<class 'pandas.core.frame.DataFrame'>\n",
      "RangeIndex: 970960 entries, 0 to 970959\n",
      "Data columns (total 27 columns):\n",
      " #   Column                        Non-Null Count   Dtype  \n",
      "---  ------                        --------------   -----  \n",
      " 0   msno                          970960 non-null  object \n",
      " 1   is_churn                      970960 non-null  int64  \n",
      " 2   city                          860967 non-null  float64\n",
      " 3   bd                            860967 non-null  float64\n",
      " 4   gender                        388905 non-null  object \n",
      " 5   registered_via                860967 non-null  float64\n",
      " 6   registration_init_time        860967 non-null  float64\n",
      " 7   mean_date                     754532 non-null  float64\n",
      " 8   count_of_logs                 754532 non-null  float64\n",
      " 9   mean_num_25                   754532 non-null  float64\n",
      " 10  mean_num_50                   754532 non-null  float64\n",
      " 11  mean_num_75                   754532 non-null  float64\n",
      " 12  mean_num_985                  754532 non-null  float64\n",
      " 13  mean_num_100                  754532 non-null  float64\n",
      " 14  mean_num_unq                  754532 non-null  float64\n",
      " 15  mean_total_secs               754532 non-null  float64\n",
      " 16  number_transactions_done      825368 non-null  float64\n",
      " 17  mean_payment_plan_days        825368 non-null  float64\n",
      " 18  total_payment_plan_days       825368 non-null  float64\n",
      " 19  mean_plan_list_price          825368 non-null  float64\n",
      " 20  mean_actual_amount_paid       825368 non-null  float64\n",
      " 21  total_actual_amount_paid      825368 non-null  float64\n",
      " 22  mean_is_auto_renew            825368 non-null  float64\n",
      " 23  mean_transaction_date         825368 non-null  float64\n",
      " 24  mean_membership_expire_date   825368 non-null  float64\n",
      " 25  mean_is_cancel                825368 non-null  float64\n",
      " 26  total_transactions_cancelled  825368 non-null  float64\n",
      "dtypes: float64(24), int64(1), object(2)\n",
      "memory usage: 200.0+ MB\n"
     ]
    }
   ],
   "source": [
    "\n",
    "df.info()"
   ]
  },
  {
   "cell_type": "code",
   "execution_count": null,
   "id": "6280be26-a8a8-4484-a298-a61646506cc1",
   "metadata": {},
   "outputs": [],
   "source": []
  }
 ],
 "metadata": {
  "kernelspec": {
   "display_name": "Python 3 (ipykernel)",
   "language": "python",
   "name": "python3"
  },
  "language_info": {
   "codemirror_mode": {
    "name": "ipython",
    "version": 3
   },
   "file_extension": ".py",
   "mimetype": "text/x-python",
   "name": "python",
   "nbconvert_exporter": "python",
   "pygments_lexer": "ipython3",
   "version": "3.10.12"
  }
 },
 "nbformat": 4,
 "nbformat_minor": 5
}
