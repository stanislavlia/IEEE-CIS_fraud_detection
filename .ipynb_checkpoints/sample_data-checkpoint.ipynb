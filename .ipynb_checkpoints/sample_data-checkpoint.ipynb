{
 "cells": [
  {
   "cell_type": "code",
   "execution_count": 2,
   "id": "4592f162",
   "metadata": {},
   "outputs": [],
   "source": [
    "import pandas as pd\n",
    "\n",
    "SEED = 987355"
   ]
  },
  {
   "cell_type": "code",
   "execution_count": 4,
   "id": "189bf6b1-d589-4766-baa2-09445f9c2c2f",
   "metadata": {},
   "outputs": [],
   "source": [
    "members_df = pd.read_csv(\"raw_data/members_v3.csv\")"
   ]
  },
  {
   "cell_type": "code",
   "execution_count": 5,
   "id": "1f628e56-e4c3-4633-a19c-21da8cdda5b2",
   "metadata": {},
   "outputs": [],
   "source": [
    "sample_members_df = members_df.sample(frac=0.05, random_state=SEED)"
   ]
  },
  {
   "cell_type": "code",
   "execution_count": 6,
   "id": "40c851ed-66a0-4ded-bc4c-633da5a95efc",
   "metadata": {},
   "outputs": [],
   "source": [
    "sample_members_df.to_csv(\"sampled_data/members.csv\")"
   ]
  },
  {
   "cell_type": "code",
   "execution_count": 7,
   "id": "59dd679c-c8ae-4153-b6d3-9a1b5e544f30",
   "metadata": {},
   "outputs": [],
   "source": [
    "users_ids = sample_members_df[\"msno\"]"
   ]
  },
  {
   "cell_type": "code",
   "execution_count": null,
   "id": "d1f19a46-e842-4b4c-8c09-01a04c5123dd",
   "metadata": {},
   "outputs": [],
   "source": []
  }
 ],
 "metadata": {
  "kernelspec": {
   "display_name": "Python (actlearning)",
   "language": "python",
   "name": "myenv"
  },
  "language_info": {
   "codemirror_mode": {
    "name": "ipython",
    "version": 3
   },
   "file_extension": ".py",
   "mimetype": "text/x-python",
   "name": "python",
   "nbconvert_exporter": "python",
   "pygments_lexer": "ipython3",
   "version": "3.10.12"
  }
 },
 "nbformat": 4,
 "nbformat_minor": 5
}
