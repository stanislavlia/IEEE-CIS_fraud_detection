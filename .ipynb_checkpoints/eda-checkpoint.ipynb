{
 "cells": [
  {
   "cell_type": "markdown",
   "id": "283afca2-b2b0-4380-aee5-b520c8c70e0e",
   "metadata": {},
   "source": [
    "Kaggle competition - https://www.kaggle.com/competitions/kkbox-churn-prediction-challenge/overview"
   ]
  },
  {
   "cell_type": "code",
   "execution_count": 2,
   "id": "a87fc03e-7454-4082-897c-3de08b1b5dcc",
   "metadata": {},
   "outputs": [],
   "source": [
    "import warnings\n",
    "warnings.filterwarnings('ignore') \n",
    "\n",
    "import seaborn as sns\n",
    "import pandas as pd\n",
    "import numpy as np\n",
    "import matplotlib.pyplot as plt"
   ]
  },
  {
   "cell_type": "code",
   "execution_count": 3,
   "id": "2eec3eb5-c6b2-433e-adb6-d04731751de5",
   "metadata": {},
   "outputs": [
    {
     "name": "stdout",
     "output_type": "stream",
     "text": [
      "409M\tdata/members_v3.csv\n",
      "41M\tdata/sample_submission_v2.csv\n",
      "44M\tdata/train_v2.csv\n",
      "111M\tdata/transactions_v2.csv\n",
      "1,4G\tdata/user_logs_v2.csv\n"
     ]
    }
   ],
   "source": [
    "!du -h data/*.csv\n"
   ]
  },
  {
   "cell_type": "code",
   "execution_count": 4,
   "id": "ef6cd653-f761-4283-b798-8da561dc8ee9",
   "metadata": {},
   "outputs": [],
   "source": [
    "members_df = pd.read_csv(\"data/members_v3.csv\")\n",
    "train_df = pd.read_csv(\"data/train_v2.csv\")\n",
    "transcactions_df = pd.read_csv(\"data/transactions_v2.csv\")\n",
    "sample_submission = pd.read_csv(\"data/sample_submission_v2.csv\")\n"
   ]
  },
  {
   "cell_type": "markdown",
   "id": "6ca48ffa-ecff-4ae6-8aa6-76b1be0ef154",
   "metadata": {},
   "source": [
    "## Initial Exploration"
   ]
  },
  {
   "cell_type": "markdown",
   "id": "f6f866dd-18c0-4518-b7f4-c79d7cd452b2",
   "metadata": {},
   "source": [
    "### Members table"
   ]
  },
  {
   "cell_type": "code",
   "execution_count": 4,
   "id": "ca7afc01-cf65-49c6-aab7-87ac548d7fb5",
   "metadata": {},
   "outputs": [],
   "source": [
    "sample_members_df = members_df.sample(frac=0.1)"
   ]
  },
  {
   "cell_type": "code",
   "execution_count": 5,
   "id": "37475e94-b469-48dd-926b-b9db2b4efe00",
   "metadata": {
    "scrolled": true
   },
   "outputs": [
    {
     "name": "stdout",
     "output_type": "stream",
     "text": [
      "<class 'pandas.core.frame.DataFrame'>\n",
      "RangeIndex: 6769473 entries, 0 to 6769472\n",
      "Data columns (total 6 columns):\n",
      " #   Column                  Non-Null Count    Dtype \n",
      "---  ------                  --------------    ----- \n",
      " 0   msno                    6769473 non-null  object\n",
      " 1   city                    6769473 non-null  int64 \n",
      " 2   bd                      6769473 non-null  int64 \n",
      " 3   gender                  2339968 non-null  object\n",
      " 4   registered_via          6769473 non-null  int64 \n",
      " 5   registration_init_time  6769473 non-null  int64 \n",
      "dtypes: int64(4), object(2)\n",
      "memory usage: 309.9+ MB\n"
     ]
    }
   ],
   "source": [
    "members_df.info(show_counts=True)"
   ]
  },
  {
   "cell_type": "code",
   "execution_count": 6,
   "id": "227633cf-c531-499d-82fd-166010c38de1",
   "metadata": {},
   "outputs": [
    {
     "data": {
      "text/html": [
       "<div>\n",
       "<style scoped>\n",
       "    .dataframe tbody tr th:only-of-type {\n",
       "        vertical-align: middle;\n",
       "    }\n",
       "\n",
       "    .dataframe tbody tr th {\n",
       "        vertical-align: top;\n",
       "    }\n",
       "\n",
       "    .dataframe thead th {\n",
       "        text-align: right;\n",
       "    }\n",
       "</style>\n",
       "<table border=\"1\" class=\"dataframe\">\n",
       "  <thead>\n",
       "    <tr style=\"text-align: right;\">\n",
       "      <th></th>\n",
       "      <th>msno</th>\n",
       "      <th>city</th>\n",
       "      <th>bd</th>\n",
       "      <th>gender</th>\n",
       "      <th>registered_via</th>\n",
       "      <th>registration_init_time</th>\n",
       "    </tr>\n",
       "  </thead>\n",
       "  <tbody>\n",
       "    <tr>\n",
       "      <th>0</th>\n",
       "      <td>Rb9UwLQTrxzBVwCB6+bCcSQWZ9JiNLC9dXtM1oEsZA8=</td>\n",
       "      <td>1</td>\n",
       "      <td>0</td>\n",
       "      <td>NaN</td>\n",
       "      <td>11</td>\n",
       "      <td>20110911</td>\n",
       "    </tr>\n",
       "    <tr>\n",
       "      <th>1</th>\n",
       "      <td>+tJonkh+O1CA796Fm5X60UMOtB6POHAwPjbTRVl/EuU=</td>\n",
       "      <td>1</td>\n",
       "      <td>0</td>\n",
       "      <td>NaN</td>\n",
       "      <td>7</td>\n",
       "      <td>20110914</td>\n",
       "    </tr>\n",
       "    <tr>\n",
       "      <th>2</th>\n",
       "      <td>cV358ssn7a0f7jZOwGNWS07wCKVqxyiImJUX6xcIwKw=</td>\n",
       "      <td>1</td>\n",
       "      <td>0</td>\n",
       "      <td>NaN</td>\n",
       "      <td>11</td>\n",
       "      <td>20110915</td>\n",
       "    </tr>\n",
       "    <tr>\n",
       "      <th>3</th>\n",
       "      <td>9bzDeJP6sQodK73K5CBlJ6fgIQzPeLnRl0p5B77XP+g=</td>\n",
       "      <td>1</td>\n",
       "      <td>0</td>\n",
       "      <td>NaN</td>\n",
       "      <td>11</td>\n",
       "      <td>20110915</td>\n",
       "    </tr>\n",
       "  </tbody>\n",
       "</table>\n",
       "</div>"
      ],
      "text/plain": [
       "                                           msno  city  bd gender  \\\n",
       "0  Rb9UwLQTrxzBVwCB6+bCcSQWZ9JiNLC9dXtM1oEsZA8=     1   0    NaN   \n",
       "1  +tJonkh+O1CA796Fm5X60UMOtB6POHAwPjbTRVl/EuU=     1   0    NaN   \n",
       "2  cV358ssn7a0f7jZOwGNWS07wCKVqxyiImJUX6xcIwKw=     1   0    NaN   \n",
       "3  9bzDeJP6sQodK73K5CBlJ6fgIQzPeLnRl0p5B77XP+g=     1   0    NaN   \n",
       "\n",
       "   registered_via  registration_init_time  \n",
       "0              11                20110911  \n",
       "1               7                20110914  \n",
       "2              11                20110915  \n",
       "3              11                20110915  "
      ]
     },
     "execution_count": 6,
     "metadata": {},
     "output_type": "execute_result"
    }
   ],
   "source": [
    "members_df.head(4)"
   ]
  },
  {
   "cell_type": "code",
   "execution_count": 7,
   "id": "d0558caa-c1ef-41ec-8766-df66206e2a0a",
   "metadata": {},
   "outputs": [
    {
     "data": {
      "text/plain": [
       "gender\n",
       "male      1195355\n",
       "female    1144613\n",
       "Name: count, dtype: int64"
      ]
     },
     "execution_count": 7,
     "metadata": {},
     "output_type": "execute_result"
    }
   ],
   "source": [
    "members_df[\"gender\"].value_counts()"
   ]
  },
  {
   "cell_type": "code",
   "execution_count": 8,
   "id": "9cca875d-9f04-4b5b-a796-312b6ba5c691",
   "metadata": {},
   "outputs": [
    {
     "data": {
      "text/plain": [
       "0.6543352783887313"
      ]
     },
     "execution_count": 8,
     "metadata": {},
     "output_type": "execute_result"
    }
   ],
   "source": [
    "members_df[\"gender\"].isna().mean()"
   ]
  },
  {
   "cell_type": "code",
   "execution_count": 9,
   "id": "534200d3-a582-4e5c-8446-9f5111ad365a",
   "metadata": {},
   "outputs": [],
   "source": [
    "\n",
    "city_counts = members_df[\"city\"].value_counts().reset_index()\n",
    "city_counts[\"count\"] /= members_df.shape[0] / 100\n",
    "city_counts.columns = [\"city\", \"count\"]"
   ]
  },
  {
   "cell_type": "code",
   "execution_count": 10,
   "id": "758c2edf-77b2-4313-a90a-93c1369ab72a",
   "metadata": {},
   "outputs": [
    {
     "data": {
      "text/plain": [
       "Text(0, 0.5, '% of Members')"
      ]
     },
     "execution_count": 10,
     "metadata": {},
     "output_type": "execute_result"
    },
    {
     "data": {
      "image/png": "[encoded data removed]",
      "text/plain": [
       "<Figure size 792x432 with 1 Axes>"
      ]
     },
     "metadata": {
      "needs_background": "light"
     },
     "output_type": "display_data"
    }
   ],
   "source": [
    "\n",
    "\n",
    "plt.figure(figsize=(11, 6))\n",
    "sns.barplot(data=city_counts, x=\"city\", y=\"count\", palette=\"viridis\")\n",
    "plt.yticks(np.linspace(0, 80, 17), fontsize=12)\n",
    "plt.xticks(fontsize=12)\n",
    "plt.title(\"Cities of our members count\", fontsize=14)\n",
    "plt.xlabel(\"City encoded\", fontsize=13)\n",
    "plt.ylabel(\"% of Members\", fontsize=13)\n"
   ]
  },
  {
   "cell_type": "code",
   "execution_count": 11,
   "id": "5d401643-64c8-411b-9e7d-d8c25b783ccb",
   "metadata": {},
   "outputs": [],
   "source": [
    "#age of the user\n",
    "\n",
    "#drop_outliers\n",
    "age_upper_bound = members_df[\"bd\"].quantile(0.9995)\n",
    "age_lower_bound = members_df[\"bd\"].quantile(0.0005)\n",
    "\n",
    "members_df = members_df[(members_df[\"bd\"] > age_lower_bound) & (members_df[\"bd\"] < age_upper_bound)]\n",
    "\n",
    "\n"
   ]
  },
  {
   "cell_type": "code",
   "execution_count": 12,
   "id": "30897394-51b9-404e-9c24-25b143a56aa5",
   "metadata": {},
   "outputs": [
    {
     "data": {
      "image/png": "[encoded data removed]",
      "text/plain": [
       "<Figure size 864x432 with 1 Axes>"
      ]
     },
     "metadata": {
      "needs_background": "light"
     },
     "output_type": "display_data"
    }
   ],
   "source": [
    "plt.figure(figsize=(12, 6))\n",
    "sns.kdeplot(data=members_df, x='bd', fill=True)\n",
    "plt.xlabel('Age', fontsize=13)\n",
    "plt.ylabel('Density', fontsize=13)\n",
    "plt.title(\"Members Age Distribution\", fontsize=14)\n",
    "plt.xticks(np.linspace(0, 100, 21), fontsize=12)\n",
    "plt.axvline(members_df[\"bd\"].mean(), color='red', linestyle='--', label=f'Mean Age: {members_df[\"bd\"].mean():.2f}')\n",
    "plt.legend()\n",
    "\n",
    "plt.show()"
   ]
  },
  {
   "cell_type": "code",
   "execution_count": 13,
   "id": "700745e2-2f1b-4b83-97d8-73776c56e32c",
   "metadata": {},
   "outputs": [
    {
     "data": {
      "text/plain": [
       "Text(0, 0.5, '% of Members')"
      ]
     },
     "execution_count": 13,
     "metadata": {},
     "output_type": "execute_result"
    },
    {
     "data": {
      "image/png": "[encoded data removed]",
      "text/plain": [
       "<Figure size 792x432 with 1 Axes>"
      ]
     },
     "metadata": {
      "needs_background": "light"
     },
     "output_type": "display_data"
    }
   ],
   "source": [
    "registr_channel_counts = members_df[\"registered_via\"].value_counts().reset_index()\n",
    "registr_channel_counts.columns = [\"registered_via\", \"count\"]\n",
    "\n",
    "registr_channel_counts[\"count\"] /= members_df.shape[0] / 100\n",
    "\n",
    "plt.figure(figsize=(11, 6))\n",
    "sns.barplot(data=registr_channel_counts, x=\"registered_via\", y=\"count\", palette=\"magma\")\n",
    "plt.xticks(fontsize=12)\n",
    "plt.yticks(np.linspace(0, 50, 11))\n",
    "plt.title(\"Registration channels distribution\", fontsize=14)\n",
    "plt.xlabel(\"Channel encoded\", fontsize=13)\n",
    "plt.ylabel(\"% of Members\", fontsize=13)\n"
   ]
  },
  {
   "cell_type": "markdown",
   "id": "fdbed2d1-0ca8-4fa2-9f64-16e8f65eafd8",
   "metadata": {},
   "source": [
    "**Initial Obsevations**:\n",
    "1) Timestamps are written as integer. We might want to convert it to datetime format\n",
    "2) We have many unspecified genders, 65% of genders are NaNs\n",
    "3) Most of members (70%) are coming from *City 1*\n",
    "4) Age distribution is quite natural and nothing interesting noticed\n",
    "5) There are 4 most common registration channels that our clients take. The rest are much less popular\n",
    "    "
   ]
  },
  {
   "cell_type": "markdown",
   "id": "3290a75c-a846-439c-b99d-defc5c3128af",
   "metadata": {},
   "source": [
    "### Train table (table with churn flags)"
   ]
  },
  {
   "cell_type": "code",
   "execution_count": 14,
   "id": "46f84298-caac-4881-84f5-344277249963",
   "metadata": {},
   "outputs": [
    {
     "name": "stdout",
     "output_type": "stream",
     "text": [
      "<class 'pandas.core.frame.DataFrame'>\n",
      "RangeIndex: 970960 entries, 0 to 970959\n",
      "Data columns (total 2 columns):\n",
      " #   Column    Non-Null Count   Dtype \n",
      "---  ------    --------------   ----- \n",
      " 0   msno      970960 non-null  object\n",
      " 1   is_churn  970960 non-null  int64 \n",
      "dtypes: int64(1), object(1)\n",
      "memory usage: 14.8+ MB\n"
     ]
    }
   ],
   "source": [
    "train_df.info()"
   ]
  },
  {
   "cell_type": "markdown",
   "id": "c8afb03f-9998-4a20-807e-a05695b868dd",
   "metadata": {},
   "source": [
    "As this table only contains target, let's merge it with *members* table to observe patterns in churn"
   ]
  },
  {
   "cell_type": "code",
   "execution_count": 15,
   "id": "41e327e8-6d0f-44ed-88c8-bc6912069e15",
   "metadata": {},
   "outputs": [],
   "source": [
    "train_members_df = pd.merge(train_df, members_df, on=\"msno\", how=\"left\")"
   ]
  },
  {
   "cell_type": "code",
   "execution_count": 16,
   "id": "f6a45424-e815-4a14-91c4-c2a3b7040243",
   "metadata": {},
   "outputs": [
    {
     "name": "stdout",
     "output_type": "stream",
     "text": [
      "<class 'pandas.core.frame.DataFrame'>\n",
      "RangeIndex: 970960 entries, 0 to 970959\n",
      "Data columns (total 7 columns):\n",
      " #   Column                  Non-Null Count   Dtype  \n",
      "---  ------                  --------------   -----  \n",
      " 0   msno                    970960 non-null  object \n",
      " 1   is_churn                970960 non-null  int64  \n",
      " 2   city                    386802 non-null  float64\n",
      " 3   bd                      386802 non-null  float64\n",
      " 4   gender                  377238 non-null  object \n",
      " 5   registered_via          386802 non-null  float64\n",
      " 6   registration_init_time  386802 non-null  float64\n",
      "dtypes: float64(4), int64(1), object(2)\n",
      "memory usage: 51.9+ MB\n"
     ]
    }
   ],
   "source": [
    "train_members_df.info()"
   ]
  },
  {
   "cell_type": "code",
   "execution_count": 17,
   "id": "5d869379-4f97-4bee-86c3-cb8b1d48c9ec",
   "metadata": {},
   "outputs": [
    {
     "data": {
      "image/png": "[encoded data removed]",
      "text/plain": [
       "<Figure size 360x360 with 1 Axes>"
      ]
     },
     "metadata": {},
     "output_type": "display_data"
    }
   ],
   "source": [
    "churn_counts = train_members_df['is_churn'].value_counts().reset_index()\n",
    "churn_counts.columns = ['is_churn', 'count']\n",
    "\n",
    "churn_counts['is_churn'] = churn_counts['is_churn'].replace({0: \"Renew Subscription\", 1: \"Churn (left service)\"})\n",
    "\n",
    "plt.figure(figsize=(5, 5))\n",
    "plt.pie(churn_counts['count'], labels=churn_counts['is_churn'], autopct='%1.1f%%', startangle=140, colors=['skyblue', 'salmon'])\n",
    "plt.title('Churn Distribution')\n",
    "plt.axis('equal') \n",
    "\n",
    "plt.show()"
   ]
  },
  {
   "cell_type": "code",
   "execution_count": 24,
   "id": "24dbb71c-1cb6-484a-b777-21e4d685e677",
   "metadata": {},
   "outputs": [
    {
     "data": {
      "image/png": "[encoded data removed]",
      "text/plain": [
       "<Figure size 864x504 with 1 Axes>"
      ]
     },
     "metadata": {
      "needs_background": "light"
     },
     "output_type": "display_data"
    }
   ],
   "source": [
    "average_churn_by_city = train_members_df.groupby(\"city\")[\"is_churn\"].mean().reset_index()\n",
    "average_churn_by_city['city'] = average_churn_by_city[\"city\"].astype(int)\n",
    "\n",
    "\n",
    "plt.figure(figsize=(12, 7))\n",
    "sns.barplot(data=average_churn_by_city, x=\"city\", y=\"is_churn\", color=\"blue\", alpha=0.6)\n",
    "plt.xlabel('City')\n",
    "plt.ylabel('Average Churn Rate')\n",
    "plt.title('Average Churn Rate by City')\n",
    "plt.xticks(fontsize=12)\n",
    "plt.yticks(fontsize=12)\n",
    "plt.show()"
   ]
  },
  {
   "cell_type": "code",
   "execution_count": 31,
   "id": "d619ed69-b8a2-48fb-bac9-4a58042deefe",
   "metadata": {},
   "outputs": [],
   "source": [
    "avg_churn_by_gender = train_members_df.fillna(\"MISSING\").groupby(\"gender\")[\"is_churn\"].mean().reset_index()"
   ]
  },
  {
   "cell_type": "code",
   "execution_count": 41,
   "id": "95e83338-f30d-48c1-9e17-24bd57eccdf1",
   "metadata": {},
   "outputs": [],
   "source": [
    "avg_churn_by_gender[\"is_churn\"] *= 100"
   ]
  },
  {
   "cell_type": "code",
   "execution_count": 48,
   "id": "518112f3-0d7d-4b1d-b720-9fb6f6bc6282",
   "metadata": {},
   "outputs": [
    {
     "data": {
      "image/png": "[encoded data removed]",
      "text/plain": [
       "<Figure size 720x432 with 1 Axes>"
      ]
     },
     "metadata": {
      "needs_background": "light"
     },
     "output_type": "display_data"
    }
   ],
   "source": [
    "plt.figure(figsize=(10, 6))\n",
    "barplot = sns.barplot(data=avg_churn_by_gender, x=\"gender\", y=\"is_churn\", palette=custom_palette)\n",
    "plt.yticks(np.linspace(0, 15, 11))\n",
    "\n",
    "# Step 3: Annotate each bar with its value\n",
    "for p in barplot.patches:\n",
    "    barplot.annotate(format(p.get_height(), '.1f') + '%',\n",
    "                     (p.get_x() + p.get_width() / 2., p.get_height()),\n",
    "                     ha = 'center', va = 'center',\n",
    "                     xytext = (0, 9), textcoords = 'offset points')\n",
    "\n",
    "plt.xlabel('Gender', fontsize=12)\n",
    "plt.ylabel('Average Churn Rate', fontsize=12)\n",
    "plt.title('Average Churn Rate by Gender', fontsize=14)\n",
    "plt.show()"
   ]
  },
  {
   "cell_type": "code",
   "execution_count": 76,
   "id": "0a57aa33-2263-4aee-a0d1-efaf028f88d9",
   "metadata": {},
   "outputs": [],
   "source": [
    "bins = [0, 18, 25, 35, 45, 55, 65, 100, np.nan]\n",
    "labels = ['0-18', '19-25', '26-35', '36-45', '46-55', '56-65', '65+', \"MISSING\"]\n",
    "train_members_df['age_bin'] = pd.cut(train_members_df['bd'], bins=bins, labels=labels, right=True)\n",
    "train_members_df[\"age_bin\"] = train_members_df[\"age_bin\"].fillna(\"MISSING\")\n",
    "\n",
    "\n",
    "avg_churn_by_age = train_members_df.groupby(\"age_bin\")[\"is_churn\"].mean().reset_index()\n",
    "avg_churn_by_age[\"is_churn\"] *= 100"
   ]
  },
  {
   "cell_type": "code",
   "execution_count": 83,
   "id": "cd95027c-b56a-406b-807e-32f6aea02ad2",
   "metadata": {},
   "outputs": [
    {
     "data": {
      "image/png": "[encoded data removed]",
      "text/plain": [
       "<Figure size 720x504 with 1 Axes>"
      ]
     },
     "metadata": {
      "needs_background": "light"
     },
     "output_type": "display_data"
    }
   ],
   "source": [
    "plt.figure(figsize=(10, 7))\n",
    "barplot = sns.barplot(data=avg_churn_by_age, x='age_bin', y='is_churn', palette=\"Blues\")\n",
    "plt.yticks(np.linspace(0, 30, 11))\n",
    "plt.title(\"Average Churn % by Age category\")\n",
    "plt.xlabel(\"Age\")\n",
    "plt.ylabel(\"Churn\")\n",
    "\n",
    "for p in barplot.patches:\n",
    "    barplot.annotate(format(p.get_height(), '.1f') + '%',\n",
    "                     (p.get_x() + p.get_width() / 2., p.get_height()),\n",
    "                     ha='center', va='center',\n",
    "                     xytext=(0, 9), textcoords='offset points')\n",
    "\n",
    "\n",
    "plt.show()"
   ]
  },
  {
   "cell_type": "code",
   "execution_count": 6,
   "id": "d2de3976-c23f-46ff-a618-3e13ecf4820d",
   "metadata": {},
   "outputs": [
    {
     "name": "stdout",
     "output_type": "stream",
     "text": [
      "<class 'pandas.core.frame.DataFrame'>\n",
      "RangeIndex: 1431009 entries, 0 to 1431008\n",
      "Data columns (total 9 columns):\n",
      " #   Column                  Non-Null Count    Dtype \n",
      "---  ------                  --------------    ----- \n",
      " 0   msno                    1431009 non-null  object\n",
      " 1   payment_method_id       1431009 non-null  int64 \n",
      " 2   payment_plan_days       1431009 non-null  int64 \n",
      " 3   plan_list_price         1431009 non-null  int64 \n",
      " 4   actual_amount_paid      1431009 non-null  int64 \n",
      " 5   is_auto_renew           1431009 non-null  int64 \n",
      " 6   transaction_date        1431009 non-null  int64 \n",
      " 7   membership_expire_date  1431009 non-null  int64 \n",
      " 8   is_cancel               1431009 non-null  int64 \n",
      "dtypes: int64(8), object(1)\n",
      "memory usage: 98.3+ MB\n"
     ]
    }
   ],
   "source": [
    "transcactions_df.info()"
   ]
  },
  {
   "cell_type": "code",
   "execution_count": 9,
   "id": "0276142e-4a1e-4e8e-9f12-95caa5fa0415",
   "metadata": {},
   "outputs": [],
   "source": [
    "user_logs_df = pd.read_csv(\"data/user_logs_v2.csv\", nrows=100_000)\n",
    "\n",
    "user_logs_df.to_csv(\"data/user_logs_v2_sample.csv\", index=False)"
   ]
  },
  {
   "cell_type": "code",
   "execution_count": 8,
   "id": "daab8b60-b666-4229-b8cd-88e1f7513ad6",
   "metadata": {},
   "outputs": [
    {
     "data": {
      "text/html": [
       "<div>\n",
       "<style scoped>\n",
       "    .dataframe tbody tr th:only-of-type {\n",
       "        vertical-align: middle;\n",
       "    }\n",
       "\n",
       "    .dataframe tbody tr th {\n",
       "        vertical-align: top;\n",
       "    }\n",
       "\n",
       "    .dataframe thead th {\n",
       "        text-align: right;\n",
       "    }\n",
       "</style>\n",
       "<table border=\"1\" class=\"dataframe\">\n",
       "  <thead>\n",
       "    <tr style=\"text-align: right;\">\n",
       "      <th></th>\n",
       "      <th>msno</th>\n",
       "      <th>date</th>\n",
       "      <th>num_25</th>\n",
       "      <th>num_50</th>\n",
       "      <th>num_75</th>\n",
       "      <th>num_985</th>\n",
       "      <th>num_100</th>\n",
       "      <th>num_unq</th>\n",
       "      <th>total_secs</th>\n",
       "    </tr>\n",
       "  </thead>\n",
       "  <tbody>\n",
       "    <tr>\n",
       "      <th>0</th>\n",
       "      <td>u9E91QDTvHLq6NXjEaWv8u4QIqhrHk72kE+w31Gnhdg=</td>\n",
       "      <td>20170331</td>\n",
       "      <td>8</td>\n",
       "      <td>4</td>\n",
       "      <td>0</td>\n",
       "      <td>1</td>\n",
       "      <td>21</td>\n",
       "      <td>18</td>\n",
       "      <td>6309.273</td>\n",
       "    </tr>\n",
       "    <tr>\n",
       "      <th>1</th>\n",
       "      <td>nTeWW/eOZA/UHKdD5L7DEqKKFTjaAj3ALLPoAWsU8n0=</td>\n",
       "      <td>20170330</td>\n",
       "      <td>2</td>\n",
       "      <td>2</td>\n",
       "      <td>1</td>\n",
       "      <td>0</td>\n",
       "      <td>9</td>\n",
       "      <td>11</td>\n",
       "      <td>2390.699</td>\n",
       "    </tr>\n",
       "    <tr>\n",
       "      <th>2</th>\n",
       "      <td>2UqkWXwZbIjs03dHLU9KHJNNEvEkZVzm69f3jCS+uLI=</td>\n",
       "      <td>20170331</td>\n",
       "      <td>52</td>\n",
       "      <td>3</td>\n",
       "      <td>5</td>\n",
       "      <td>3</td>\n",
       "      <td>84</td>\n",
       "      <td>110</td>\n",
       "      <td>23203.337</td>\n",
       "    </tr>\n",
       "    <tr>\n",
       "      <th>3</th>\n",
       "      <td>ycwLc+m2O0a85jSLALtr941AaZt9ai8Qwlg9n0Nql5U=</td>\n",
       "      <td>20170331</td>\n",
       "      <td>176</td>\n",
       "      <td>4</td>\n",
       "      <td>2</td>\n",
       "      <td>2</td>\n",
       "      <td>19</td>\n",
       "      <td>191</td>\n",
       "      <td>7100.454</td>\n",
       "    </tr>\n",
       "    <tr>\n",
       "      <th>4</th>\n",
       "      <td>EGcbTofOSOkMmQyN1NMLxHEXJ1yV3t/JdhGwQ9wXjnI=</td>\n",
       "      <td>20170331</td>\n",
       "      <td>2</td>\n",
       "      <td>1</td>\n",
       "      <td>0</td>\n",
       "      <td>1</td>\n",
       "      <td>112</td>\n",
       "      <td>93</td>\n",
       "      <td>28401.558</td>\n",
       "    </tr>\n",
       "  </tbody>\n",
       "</table>\n",
       "</div>"
      ],
      "text/plain": [
       "                                           msno      date  num_25  num_50  \\\n",
       "0  u9E91QDTvHLq6NXjEaWv8u4QIqhrHk72kE+w31Gnhdg=  20170331       8       4   \n",
       "1  nTeWW/eOZA/UHKdD5L7DEqKKFTjaAj3ALLPoAWsU8n0=  20170330       2       2   \n",
       "2  2UqkWXwZbIjs03dHLU9KHJNNEvEkZVzm69f3jCS+uLI=  20170331      52       3   \n",
       "3  ycwLc+m2O0a85jSLALtr941AaZt9ai8Qwlg9n0Nql5U=  20170331     176       4   \n",
       "4  EGcbTofOSOkMmQyN1NMLxHEXJ1yV3t/JdhGwQ9wXjnI=  20170331       2       1   \n",
       "\n",
       "   num_75  num_985  num_100  num_unq  total_secs  \n",
       "0       0        1       21       18    6309.273  \n",
       "1       1        0        9       11    2390.699  \n",
       "2       5        3       84      110   23203.337  \n",
       "3       2        2       19      191    7100.454  \n",
       "4       0        1      112       93   28401.558  "
      ]
     },
     "execution_count": 8,
     "metadata": {},
     "output_type": "execute_result"
    }
   ],
   "source": [
    "user_logs_df.head()"
   ]
  },
  {
   "cell_type": "code",
   "execution_count": null,
   "id": "5d271ec9-6496-4cb7-8c21-ddf112b618c8",
   "metadata": {},
   "outputs": [],
   "source": []
  }
 ],
 "metadata": {
  "kernelspec": {
   "display_name": "Python (actlearning)",
   "language": "python",
   "name": "myenv"
  },
  "language_info": {
   "codemirror_mode": {
    "name": "ipython",
    "version": 3
   },
   "file_extension": ".py",
   "mimetype": "text/x-python",
   "name": "python",
   "nbconvert_exporter": "python",
   "pygments_lexer": "ipython3",
   "version": "3.10.12"
  }
 },
 "nbformat": 4,
 "nbformat_minor": 5
}
