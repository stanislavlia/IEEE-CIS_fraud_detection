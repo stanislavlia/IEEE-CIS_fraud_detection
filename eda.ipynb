{
 "cells": [
  {
   "cell_type": "markdown",
   "id": "283afca2-b2b0-4380-aee5-b520c8c70e0e",
   "metadata": {},
   "source": [
    "Kaggle competition - https://www.kaggle.com/competitions/kkbox-churn-prediction-challenge/overview"
   ]
  },
  {
   "cell_type": "code",
   "execution_count": 13,
   "id": "a87fc03e-7454-4082-897c-3de08b1b5dcc",
   "metadata": {},
   "outputs": [],
   "source": [
    "import warnings\n",
    "warnings.filterwarnings('ignore') \n",
    "\n",
    "import seaborn as sns\n",
    "import pandas as pd\n",
    "import numpy as np\n",
    "import matplotlib.pyplot as plt"
   ]
  },
  {
   "cell_type": "code",
   "execution_count": 2,
   "id": "2eec3eb5-c6b2-433e-adb6-d04731751de5",
   "metadata": {},
   "outputs": [
    {
     "name": "stdout",
     "output_type": "stream",
     "text": [
      "409M\tdata/members_v3.csv\n",
      "41M\tdata/sample_submission_v2.csv\n",
      "44M\tdata/train_v2.csv\n",
      "111M\tdata/transactions_v2.csv\n",
      "1,4G\tdata/user_logs_v2.csv\n"
     ]
    }
   ],
   "source": [
    "!du -h data/*.csv\n"
   ]
  },
  {
   "cell_type": "code",
   "execution_count": 3,
   "id": "ef6cd653-f761-4283-b798-8da561dc8ee9",
   "metadata": {},
   "outputs": [],
   "source": [
    "members_df = pd.read_csv(\"data/members_v3.csv\")\n",
    "train_df = pd.read_csv(\"data/train_v2.csv\")\n",
    "transcactions_df = pd.read_csv(\"data/transactions_v2.csv\")\n",
    "sample_submission = pd.read_csv(\"data/sample_submission_v2.csv\")"
   ]
  },
  {
   "cell_type": "markdown",
   "id": "f6f866dd-18c0-4518-b7f4-c79d7cd452b2",
   "metadata": {},
   "source": [
    "### Members"
   ]
  },
  {
   "cell_type": "code",
   "execution_count": 5,
   "id": "ca7afc01-cf65-49c6-aab7-87ac548d7fb5",
   "metadata": {},
   "outputs": [],
   "source": [
    "sample_members_df = members_df.sample(frac=0.1)"
   ]
  },
  {
   "cell_type": "code",
   "execution_count": 6,
   "id": "37475e94-b469-48dd-926b-b9db2b4efe00",
   "metadata": {},
   "outputs": [
    {
     "name": "stdout",
     "output_type": "stream",
     "text": [
      "<class 'pandas.core.frame.DataFrame'>\n",
      "RangeIndex: 6769473 entries, 0 to 6769472\n",
      "Data columns (total 6 columns):\n",
      " #   Column                  Dtype \n",
      "---  ------                  ----- \n",
      " 0   msno                    object\n",
      " 1   city                    int64 \n",
      " 2   bd                      int64 \n",
      " 3   gender                  object\n",
      " 4   registered_via          int64 \n",
      " 5   registration_init_time  int64 \n",
      "dtypes: int64(4), object(2)\n",
      "memory usage: 309.9+ MB\n"
     ]
    }
   ],
   "source": [
    "members_df.info()"
   ]
  },
  {
   "cell_type": "code",
   "execution_count": 7,
   "id": "227633cf-c531-499d-82fd-166010c38de1",
   "metadata": {},
   "outputs": [
    {
     "data": {
      "text/html": [
       "<div>\n",
       "<style scoped>\n",
       "    .dataframe tbody tr th:only-of-type {\n",
       "        vertical-align: middle;\n",
       "    }\n",
       "\n",
       "    .dataframe tbody tr th {\n",
       "        vertical-align: top;\n",
       "    }\n",
       "\n",
       "    .dataframe thead th {\n",
       "        text-align: right;\n",
       "    }\n",
       "</style>\n",
       "<table border=\"1\" class=\"dataframe\">\n",
       "  <thead>\n",
       "    <tr style=\"text-align: right;\">\n",
       "      <th></th>\n",
       "      <th>msno</th>\n",
       "      <th>city</th>\n",
       "      <th>bd</th>\n",
       "      <th>gender</th>\n",
       "      <th>registered_via</th>\n",
       "      <th>registration_init_time</th>\n",
       "    </tr>\n",
       "  </thead>\n",
       "  <tbody>\n",
       "    <tr>\n",
       "      <th>0</th>\n",
       "      <td>Rb9UwLQTrxzBVwCB6+bCcSQWZ9JiNLC9dXtM1oEsZA8=</td>\n",
       "      <td>1</td>\n",
       "      <td>0</td>\n",
       "      <td>NaN</td>\n",
       "      <td>11</td>\n",
       "      <td>20110911</td>\n",
       "    </tr>\n",
       "    <tr>\n",
       "      <th>1</th>\n",
       "      <td>+tJonkh+O1CA796Fm5X60UMOtB6POHAwPjbTRVl/EuU=</td>\n",
       "      <td>1</td>\n",
       "      <td>0</td>\n",
       "      <td>NaN</td>\n",
       "      <td>7</td>\n",
       "      <td>20110914</td>\n",
       "    </tr>\n",
       "    <tr>\n",
       "      <th>2</th>\n",
       "      <td>cV358ssn7a0f7jZOwGNWS07wCKVqxyiImJUX6xcIwKw=</td>\n",
       "      <td>1</td>\n",
       "      <td>0</td>\n",
       "      <td>NaN</td>\n",
       "      <td>11</td>\n",
       "      <td>20110915</td>\n",
       "    </tr>\n",
       "    <tr>\n",
       "      <th>3</th>\n",
       "      <td>9bzDeJP6sQodK73K5CBlJ6fgIQzPeLnRl0p5B77XP+g=</td>\n",
       "      <td>1</td>\n",
       "      <td>0</td>\n",
       "      <td>NaN</td>\n",
       "      <td>11</td>\n",
       "      <td>20110915</td>\n",
       "    </tr>\n",
       "  </tbody>\n",
       "</table>\n",
       "</div>"
      ],
      "text/plain": [
       "                                           msno  city  bd gender  \\\n",
       "0  Rb9UwLQTrxzBVwCB6+bCcSQWZ9JiNLC9dXtM1oEsZA8=     1   0    NaN   \n",
       "1  +tJonkh+O1CA796Fm5X60UMOtB6POHAwPjbTRVl/EuU=     1   0    NaN   \n",
       "2  cV358ssn7a0f7jZOwGNWS07wCKVqxyiImJUX6xcIwKw=     1   0    NaN   \n",
       "3  9bzDeJP6sQodK73K5CBlJ6fgIQzPeLnRl0p5B77XP+g=     1   0    NaN   \n",
       "\n",
       "   registered_via  registration_init_time  \n",
       "0              11                20110911  \n",
       "1               7                20110914  \n",
       "2              11                20110915  \n",
       "3              11                20110915  "
      ]
     },
     "execution_count": 7,
     "metadata": {},
     "output_type": "execute_result"
    }
   ],
   "source": [
    "members_df.head(4)"
   ]
  },
  {
   "cell_type": "code",
   "execution_count": 8,
   "id": "d0558caa-c1ef-41ec-8766-df66206e2a0a",
   "metadata": {},
   "outputs": [
    {
     "data": {
      "text/plain": [
       "gender\n",
       "male      1195355\n",
       "female    1144613\n",
       "Name: count, dtype: int64"
      ]
     },
     "execution_count": 8,
     "metadata": {},
     "output_type": "execute_result"
    }
   ],
   "source": [
    "members_df[\"gender\"].value_counts()"
   ]
  },
  {
   "cell_type": "code",
   "execution_count": 9,
   "id": "9cca875d-9f04-4b5b-a796-312b6ba5c691",
   "metadata": {},
   "outputs": [
    {
     "data": {
      "text/plain": [
       "0.6543352783887313"
      ]
     },
     "execution_count": 9,
     "metadata": {},
     "output_type": "execute_result"
    }
   ],
   "source": [
    "members_df[\"gender\"].isna().mean()"
   ]
  },
  {
   "cell_type": "code",
   "execution_count": 31,
   "id": "758c2edf-77b2-4313-a90a-93c1369ab72a",
   "metadata": {},
   "outputs": [
    {
     "data": {
      "text/plain": [
       "Text(0, 0.5, 'Count (Millions)')"
      ]
     },
     "execution_count": 31,
     "metadata": {},
     "output_type": "execute_result"
    },
    {
     "data": {
      "image/png": "[encoded data removed]",
      "text/plain": [
       "<Figure size 792x432 with 1 Axes>"
      ]
     },
     "metadata": {
      "needs_background": "light"
     },
     "output_type": "display_data"
    }
   ],
   "source": [
    "\n",
    "city_counts = members_df[\"city\"].value_counts().reset_index()\n",
    "city_counts[\"count\"] /= 1000_000\n",
    "city_counts.columns = [\"city\", \"count\"]\n",
    "\n",
    "plt.figure(figsize=(11, 6))\n",
    "sns.barplot(data=city_counts, x=\"city\", y=\"count\", color=\"grey\")\n",
    "plt.yticks(np.linspace(0, 6, 13), fontsize=12)\n",
    "plt.xticks(fontsize=12)\n",
    "plt.title(\"Cities of members count\", fontsize=14)\n",
    "plt.xlabel(\"City encoded\", fontsize=13)\n",
    "plt.ylabel(\"Count (Millions)\", fontsize=13)\n"
   ]
  },
  {
   "cell_type": "markdown",
   "id": "fdbed2d1-0ca8-4fa2-9f64-16e8f65eafd8",
   "metadata": {},
   "source": [
    "**Initial Obsevations**:\n",
    "1) Timestamps are written as integer. We might want to convert it to datetime format\n",
    "2) We have many unspecified genders, 65% of genders are NaNs\n",
    "    "
   ]
  },
  {
   "cell_type": "code",
   "execution_count": null,
   "id": "30897394-51b9-404e-9c24-25b143a56aa5",
   "metadata": {},
   "outputs": [],
   "source": []
  }
 ],
 "metadata": {
  "kernelspec": {
   "display_name": "Python (actlearning)",
   "language": "python",
   "name": "myenv"
  },
  "language_info": {
   "codemirror_mode": {
    "name": "ipython",
    "version": 3
   },
   "file_extension": ".py",
   "mimetype": "text/x-python",
   "name": "python",
   "nbconvert_exporter": "python",
   "pygments_lexer": "ipython3",
   "version": "3.10.12"
  }
 },
 "nbformat": 4,
 "nbformat_minor": 5
}
